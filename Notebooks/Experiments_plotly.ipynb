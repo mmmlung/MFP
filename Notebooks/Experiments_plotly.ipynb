{
  "cells": [
    {
      "cell_type": "markdown",
      "source": [
        "# Experiementieren mit Plotly"
      ],
      "metadata": {}
    },
    {
      "cell_type": "markdown",
      "source": [
        "## Import Data"
      ],
      "metadata": {}
    },
    {
      "cell_type": "code",
      "source": [
        "import pandas as pd\n",
        "\ndf = pd.read_csv('C:/Users/adm-mlung/Desktop/Projekte/Secrets/data/Umsatz_complete/Umsatz_complete_19122018.csv')"
      ],
      "outputs": [],
      "execution_count": 1,
      "metadata": {
        "collapsed": false,
        "outputHidden": false,
        "inputHidden": false
      }
    },
    {
      "cell_type": "markdown",
      "source": [
        "## Pie chart for categories"
      ],
      "metadata": {}
    },
    {
      "cell_type": "markdown",
      "source": [
        "Vorbereitungen"
      ],
      "metadata": {}
    },
    {
      "cell_type": "code",
      "source": [
        "Einnahmen = df[df['Betrag']>0].copy()\n",
        "Ausgaben = df[df['Betrag']<0].copy()\n",
        "\n",
        "labels_Einnahmen = list(set(Einnahmen.Category))\n",
        "labels_Ausgaben = list(set(Ausgaben.Category))\n",
        "\n",
        "values_Einnahmen = [sum(Einnahmen[Einnahmen['Category']==labels_Einnahmen[i]].Betrag) for i in range(len(labels_Einnahmen))]\n",
        "values_Ausgaben = [-1*sum(Ausgaben[Ausgaben['Category']==labels_Ausgaben[i]].Betrag) for i in range(len(labels_Ausgaben))]\n"
      ],
      "outputs": [],
      "execution_count": 2,
      "metadata": {
        "collapsed": false,
        "outputHidden": false,
        "inputHidden": false
      }
    },
    {
      "cell_type": "code",
      "source": [
        "values_Einnahmen"
      ],
      "outputs": [
        {
          "output_type": "execute_result",
          "execution_count": 3,
          "data": {
            "text/plain": [
              "[4874.02, 19412.35, 15789.48, 2930.0]"
            ]
          },
          "metadata": {}
        }
      ],
      "execution_count": 3,
      "metadata": {
        "collapsed": false,
        "outputHidden": false,
        "inputHidden": false
      }
    },
    {
      "cell_type": "markdown",
      "source": [
        "Plotting Einnahmen"
      ],
      "metadata": {}
    },
    {
      "cell_type": "code",
      "source": [
        "from plotly.offline import download_plotlyjs, init_notebook_mode, plot, iplot\n",
        "import plotly.graph_objs as go\n",
        "\n",
        "labels = labels_Einnahmen\n",
        "values = values_Einnahmen\n",
        "\n",
        "trace = go.Pie(labels=labels, values=values)\n",
        "\niplot([trace], filename='basic_pie_chart')"
      ],
      "outputs": [
        {
          "output_type": "display_data",
          "data": {
            "application/vnd.plotly.v1+json": {
              "data": [
                {
                  "labels": [
                    "Sonstige",
                    "Gehalt Lilly",
                    "Gehalt Matthias",
                    "Einzahlung"
                  ],
                  "values": [
                    4874.02,
                    19412.35,
                    15789.48,
                    2930
                  ],
                  "type": "pie",
                  "uid": "dc8ebd3c-5fc1-4458-8580-b4326e6dda6c"
                }
              ],
              "layout": {},
              "config": {
                "showLink": true,
                "linkText": "Export to plot.ly",
                "plotlyServerURL": "https://plot.ly"
              }
            }
          },
          "metadata": {}
        }
      ],
      "execution_count": 4,
      "metadata": {
        "collapsed": false,
        "outputHidden": false,
        "inputHidden": false
      }
    },
    {
      "cell_type": "code",
      "source": [
        "import plotly.plotly as py\n",
        "import plotly.graph_objs as go\n",
        "\n",
        "x = labels_Einnahmen\n",
        "y = values_Einnahmen\n",
        "\n",
        "data = [go.Bar(\n",
        "            x=x,\n",
        "            y=y,\n",
        "            text=y,\n",
        "            textposition = 'auto',\n",
        "            marker=dict(\n",
        "                color='rgb(158,202,225)',\n",
        "                line=dict(\n",
        "                    color='rgb(8,48,107)',\n",
        "                    width=1.5),\n",
        "            ),\n",
        "            opacity=0.6\n",
        "        )]\n",
        "\niplot(data, filename='bar-direct-labels')"
      ],
      "outputs": [
        {
          "output_type": "display_data",
          "data": {
            "application/vnd.plotly.v1+json": {
              "data": [
                {
                  "marker": {
                    "color": "rgb(158,202,225)",
                    "line": {
                      "color": "rgb(8,48,107)",
                      "width": 1.5
                    }
                  },
                  "opacity": 0.6,
                  "text": [
                    "4874.02",
                    "19412.35",
                    "15789.48",
                    "2930.0"
                  ],
                  "textposition": "auto",
                  "x": [
                    "Sonstige",
                    "Gehalt Lilly",
                    "Gehalt Matthias",
                    "Einzahlung"
                  ],
                  "y": [
                    4874.02,
                    19412.35,
                    15789.48,
                    2930
                  ],
                  "type": "bar",
                  "uid": "f7007200-9ae6-421e-a660-af70b7f1f897"
                }
              ],
              "layout": {},
              "config": {
                "showLink": true,
                "linkText": "Export to plot.ly",
                "plotlyServerURL": "https://plot.ly"
              }
            }
          },
          "metadata": {}
        }
      ],
      "execution_count": 5,
      "metadata": {
        "collapsed": false,
        "outputHidden": false,
        "inputHidden": false
      }
    },
    {
      "cell_type": "markdown",
      "source": [
        "Plotting Ausgaben"
      ],
      "metadata": {}
    },
    {
      "cell_type": "code",
      "source": [
        "import plotly.plotly as py\n",
        "import plotly.graph_objs as go\n",
        "\n",
        "labels = labels_Ausgaben\n",
        "values = values_Ausgaben\n",
        "\n",
        "trace = go.Pie(labels=labels, values=values)\n",
        "\npy.iplot([trace], filename='basic_pie_chart')"
      ],
      "outputs": [
        {
          "output_type": "error",
          "ename": "NameError",
          "evalue": "name 'labels_ausgaben' is not defined",
          "traceback": [
            "\u001b[1;31m---------------------------------------------------------------------------\u001b[0m",
            "\u001b[1;31mNameError\u001b[0m                                 Traceback (most recent call last)",
            "\u001b[1;32m<ipython-input-6-ad682287a55f>\u001b[0m in \u001b[0;36m<module>\u001b[1;34m()\u001b[0m\n\u001b[0;32m      2\u001b[0m \u001b[1;32mimport\u001b[0m \u001b[0mplotly\u001b[0m\u001b[1;33m.\u001b[0m\u001b[0mgraph_objs\u001b[0m \u001b[1;32mas\u001b[0m \u001b[0mgo\u001b[0m\u001b[1;33m\u001b[0m\u001b[0m\n\u001b[0;32m      3\u001b[0m \u001b[1;33m\u001b[0m\u001b[0m\n\u001b[1;32m----> 4\u001b[1;33m \u001b[0mlabels\u001b[0m \u001b[1;33m=\u001b[0m \u001b[0mlabels_ausgaben\u001b[0m\u001b[1;33m\u001b[0m\u001b[0m\n\u001b[0m\u001b[0;32m      5\u001b[0m \u001b[0mvalues\u001b[0m \u001b[1;33m=\u001b[0m \u001b[0mvalues_Ausgaben\u001b[0m\u001b[1;33m\u001b[0m\u001b[0m\n\u001b[0;32m      6\u001b[0m \u001b[1;33m\u001b[0m\u001b[0m\n",
            "\u001b[1;31mNameError\u001b[0m: name 'labels_ausgaben' is not defined"
          ]
        }
      ],
      "execution_count": 6,
      "metadata": {
        "collapsed": false,
        "outputHidden": false,
        "inputHidden": false
      }
    },
    {
      "cell_type": "code",
      "source": [
        "import plotly.plotly as py\n",
        "import plotly.graph_objs as go\n",
        "\n",
        "x = labels_ausgaben\n",
        "y = [round(y) for y in values_Ausgaben]\n",
        "\n",
        "data = [go.Bar(\n",
        "            x=x,\n",
        "            y=y,\n",
        "            text=y,\n",
        "            textposition = 'auto',\n",
        "            marker=dict(\n",
        "                color='rgb(158,202,225)',\n",
        "                line=dict(\n",
        "                    color='rgb(8,48,107)',\n",
        "                    width=1.5),\n",
        "            ),\n",
        "            opacity=0.6\n",
        "        )]\n",
        "\npy.iplot(data, filename='bar-direct-labels')"
      ],
      "outputs": [
        {
          "output_type": "error",
          "ename": "NameError",
          "evalue": "name 'labels_ausgaben' is not defined",
          "traceback": [
            "\u001b[1;31m---------------------------------------------------------------------------\u001b[0m",
            "\u001b[1;31mNameError\u001b[0m                                 Traceback (most recent call last)",
            "\u001b[1;32m<ipython-input-7-ca8c06c64266>\u001b[0m in \u001b[0;36m<module>\u001b[1;34m()\u001b[0m\n\u001b[0;32m      2\u001b[0m \u001b[1;32mimport\u001b[0m \u001b[0mplotly\u001b[0m\u001b[1;33m.\u001b[0m\u001b[0mgraph_objs\u001b[0m \u001b[1;32mas\u001b[0m \u001b[0mgo\u001b[0m\u001b[1;33m\u001b[0m\u001b[0m\n\u001b[0;32m      3\u001b[0m \u001b[1;33m\u001b[0m\u001b[0m\n\u001b[1;32m----> 4\u001b[1;33m \u001b[0mx\u001b[0m \u001b[1;33m=\u001b[0m \u001b[0mlabels_ausgaben\u001b[0m\u001b[1;33m\u001b[0m\u001b[0m\n\u001b[0m\u001b[0;32m      5\u001b[0m \u001b[0my\u001b[0m \u001b[1;33m=\u001b[0m \u001b[1;33m[\u001b[0m\u001b[0mround\u001b[0m\u001b[1;33m(\u001b[0m\u001b[0my\u001b[0m\u001b[1;33m)\u001b[0m \u001b[1;32mfor\u001b[0m \u001b[0my\u001b[0m \u001b[1;32min\u001b[0m \u001b[0mvalues_Ausgaben\u001b[0m\u001b[1;33m]\u001b[0m\u001b[1;33m\u001b[0m\u001b[0m\n\u001b[0;32m      6\u001b[0m \u001b[1;33m\u001b[0m\u001b[0m\n",
            "\u001b[1;31mNameError\u001b[0m: name 'labels_ausgaben' is not defined"
          ]
        }
      ],
      "execution_count": 7,
      "metadata": {
        "collapsed": false,
        "outputHidden": false,
        "inputHidden": false
      }
    },
    {
      "cell_type": "code",
      "source": [
        "import plotly.io as pio"
      ],
      "outputs": [],
      "execution_count": 8,
      "metadata": {
        "collapsed": false,
        "outputHidden": false,
        "inputHidden": false
      }
    },
    {
      "cell_type": "code",
      "source": [
        "import plotly\n",
        "\nplotly.__version__"
      ],
      "outputs": [
        {
          "output_type": "execute_result",
          "execution_count": 9,
          "data": {
            "text/plain": [
              "'3.4.2'"
            ]
          },
          "metadata": {}
        }
      ],
      "execution_count": 9,
      "metadata": {
        "collapsed": false,
        "outputHidden": false,
        "inputHidden": false
      }
    }
  ],
  "metadata": {
    "kernel_info": {
      "name": "python3"
    },
    "language_info": {
      "name": "python",
      "version": "3.6.6",
      "mimetype": "text/x-python",
      "codemirror_mode": {
        "name": "ipython",
        "version": 3
      },
      "pygments_lexer": "ipython3",
      "nbconvert_exporter": "python",
      "file_extension": ".py"
    },
    "kernelspec": {
      "name": "python3",
      "language": "python",
      "display_name": "Python 3"
    },
    "nteract": {
      "version": "0.12.3"
    }
  },
  "nbformat": 4,
  "nbformat_minor": 4
}