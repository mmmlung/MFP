{
  "cells": [
    {
      "cell_type": "code",
      "source": [
        "import os\n",
        "print(os.getcwd())\n",
        "os.chdir(\"C:/Users/adm-mlung/Desktop/Projekte/MFP\\data\")\n"
      ],
      "outputs": [
        {
          "output_type": "stream",
          "name": "stdout",
          "text": [
            "C:\\Users\\adm-mlung\\Desktop\\Projekte\\MFP\\data\n"
          ]
        }
      ],
      "execution_count": 122,
      "metadata": {
        "collapsed": false,
        "outputHidden": false,
        "inputHidden": false
      }
    },
    {
      "cell_type": "code",
      "source": [
        "df = pd.read_csv('C:/Users/adm-mlung/Desktop/Projekte/MFP/data/Umsatz_tagged_categorized_09122018.csv')\n",
        "df = df.drop(['Unnamed: 0'], axis=1)\n",
        "df['Category'] = df['Category'].fillna(' ')"
      ],
      "outputs": [],
      "execution_count": 128,
      "metadata": {
        "collapsed": false,
        "outputHidden": false,
        "inputHidden": false
      }
    },
    {
      "cell_type": "markdown",
      "source": [
        "# Anteil getaggter Umsätze"
      ],
      "metadata": {}
    },
    {
      "cell_type": "code",
      "source": [
        "1- len(df[df['Tags'].str.isspace()])/len(df)"
      ],
      "outputs": [
        {
          "output_type": "execute_result",
          "execution_count": 129,
          "data": {
            "text/plain": [
              "1.0"
            ]
          },
          "metadata": {}
        }
      ],
      "execution_count": 129,
      "metadata": {
        "collapsed": false,
        "outputHidden": false,
        "inputHidden": false
      }
    },
    {
      "cell_type": "markdown",
      "source": [
        "# Anteil kategorisierter Umsätze"
      ],
      "metadata": {}
    },
    {
      "cell_type": "code",
      "source": [
        "1-len(df[df['Category'].str.contains('Andere')])/len(df)"
      ],
      "outputs": [
        {
          "output_type": "execute_result",
          "execution_count": 131,
          "data": {
            "text/plain": [
              "1.0"
            ]
          },
          "metadata": {}
        }
      ],
      "execution_count": 131,
      "metadata": {
        "collapsed": false,
        "outputHidden": false,
        "inputHidden": false
      }
    },
    {
      "cell_type": "markdown",
      "source": [
        "# Zu taggende Umsätze"
      ],
      "metadata": {}
    },
    {
      "cell_type": "code",
      "source": [
        "tags_rest = df[df['Tags'].str.isspace()]\n",
        "tags_rest = tags_rest.sort_values(by=['Betrag'])\n",
        "tags_rest.head()\n",
        "# tags_rest.iloc[0]['Verwendungszweck']"
      ],
      "outputs": [
        {
          "output_type": "execute_result",
          "execution_count": 132,
          "data": {
            "text/plain": [
              "Empty DataFrame\n",
              "Columns: [Auftragskonto, Buchungstag, Valutadatum, Buchungstext, Verwendungszweck, Beguenstigter/Zahlungspflichtiger, Kontonummer, BLZ, Tags, Category, Betrag, Waehrung, Info]\n",
              "Index: []"
            ],
            "text/html": [
              "<div>\n",
              "<style scoped>\n",
              "    .dataframe tbody tr th:only-of-type {\n",
              "        vertical-align: middle;\n",
              "    }\n",
              "\n",
              "    .dataframe tbody tr th {\n",
              "        vertical-align: top;\n",
              "    }\n",
              "\n",
              "    .dataframe thead th {\n",
              "        text-align: right;\n",
              "    }\n",
              "</style>\n",
              "<table border=\"1\" class=\"dataframe\">\n",
              "  <thead>\n",
              "    <tr style=\"text-align: right;\">\n",
              "      <th></th>\n",
              "      <th>Auftragskonto</th>\n",
              "      <th>Buchungstag</th>\n",
              "      <th>Valutadatum</th>\n",
              "      <th>Buchungstext</th>\n",
              "      <th>Verwendungszweck</th>\n",
              "      <th>Beguenstigter/Zahlungspflichtiger</th>\n",
              "      <th>Kontonummer</th>\n",
              "      <th>BLZ</th>\n",
              "      <th>Tags</th>\n",
              "      <th>Category</th>\n",
              "      <th>Betrag</th>\n",
              "      <th>Waehrung</th>\n",
              "      <th>Info</th>\n",
              "    </tr>\n",
              "  </thead>\n",
              "  <tbody>\n",
              "  </tbody>\n",
              "</table>\n",
              "</div>"
            ]
          },
          "metadata": {}
        }
      ],
      "execution_count": 132,
      "metadata": {
        "collapsed": false,
        "outputHidden": false,
        "inputHidden": false
      }
    },
    {
      "cell_type": "code",
      "source": [
        "len(df[df['Tags'].str.isspace()])"
      ],
      "outputs": [
        {
          "output_type": "execute_result",
          "execution_count": 121,
          "data": {
            "text/plain": [
              "44"
            ]
          },
          "metadata": {}
        }
      ],
      "execution_count": 121,
      "metadata": {
        "collapsed": false,
        "outputHidden": false,
        "inputHidden": false
      }
    },
    {
      "cell_type": "markdown",
      "source": [
        "# Verhältnis Mietkosten zu Einnahmen und Ausgaben"
      ],
      "metadata": {}
    },
    {
      "cell_type": "code",
      "source": [
        "Mieten = df[df['Tags'].str.contains('Miete')]\n",
        "Ausgaben = df[df['Betrag']<0]\n",
        "Einnahmen = df[df['Betrag']>0]\n",
        "\n",
        "Sum_Mieten = sum(Mieten['Betrag'])\n",
        "Sum_Ausgaben = sum(Ausgaben['Betrag'])\n",
        "Sum_Einnahmen = sum(Einnahmen['Betrag'])\n",
        "\n\n",
        "print(Sum_Mieten/Sum_Ausgaben)\n",
        "print(-1*Sum_Mieten/Sum_Einnahmen)"
      ],
      "outputs": [
        {
          "output_type": "stream",
          "name": "stdout",
          "text": [
            "0.15993980908771988\n",
            "0.16450972185987617\n"
          ]
        }
      ],
      "execution_count": 133,
      "metadata": {
        "collapsed": false,
        "outputHidden": false,
        "inputHidden": false
      }
    },
    {
      "cell_type": "markdown",
      "source": [
        "# Visualisierung Kategorien"
      ],
      "metadata": {}
    },
    {
      "cell_type": "markdown",
      "source": [
        "## Visualisierung Einnahmen"
      ],
      "metadata": {}
    },
    {
      "cell_type": "code",
      "source": [
        "%matplotlib inline\n",
        "import matplotlib.pyplot as plt\n",
        " \n",
        "# Data to plot\n",
        "labels = list(set(Einnahmen['Category']))\n",
        "sizes = [sum(Einnahmen[Einnahmen['Category']==labels[i]]['Betrag']) for i in range(len(labels))]\n",
        "colors = ['gold', 'yellowgreen', 'lightcoral', 'lightskyblue'][0:4]\n",
        "explode = (0.1, 0, 0,0)  # explode 1st slice\n",
        " \n",
        " # Plot\n",
        "plt.pie(sizes, explode=explode, labels=labels, colors=colors,\n",
        "         autopct='%1.1f%%', shadow=True, startangle=140)\n",
        " \n",
        "plt.axis('equal')\n",
        "plt.title('Visualsierung Einnahmen')\n",
        "plt.show()"
      ],
      "outputs": [
        {
          "output_type": "display_data",
          "data": {
            "text/plain": [
              "<Figure size 432x288 with 1 Axes>"
            ],
            "image/png": "[encoded data removed]"
          },
          "metadata": {}
        }
      ],
      "execution_count": 134,
      "metadata": {
        "collapsed": false,
        "outputHidden": false,
        "inputHidden": false
      }
    },
    {
      "cell_type": "code",
      "source": [
        "sizes"
      ],
      "outputs": [
        {
          "output_type": "execute_result",
          "execution_count": 135,
          "data": {
            "text/plain": [
              "[2150.0, 15789.48, 4874.0199999999995, 19311.67]"
            ]
          },
          "metadata": {}
        }
      ],
      "execution_count": 135,
      "metadata": {
        "collapsed": false,
        "outputHidden": false,
        "inputHidden": false
      }
    },
    {
      "cell_type": "code",
      "source": [
        "list(set(Einnahmen['Category']))[:-1]"
      ],
      "outputs": [
        {
          "output_type": "execute_result",
          "execution_count": 136,
          "data": {
            "text/plain": [
              "['Einzahlung', 'Gehalt Matthias', 'Sonstige']"
            ]
          },
          "metadata": {}
        }
      ],
      "execution_count": 136,
      "metadata": {
        "collapsed": false,
        "outputHidden": false,
        "inputHidden": false
      }
    },
    {
      "cell_type": "markdown",
      "source": [
        "## Visualisierung Ausgaben"
      ],
      "metadata": {}
    },
    {
      "cell_type": "code",
      "source": [
        "%matplotlib inline\n",
        "import matplotlib.pyplot as plt\n",
        " \n",
        "# Data to plot\n",
        "labels_Ausgaben = list(set(Ausgaben['Category']))\n",
        "sizes_Ausgaben = [-1*sum(Ausgaben[Ausgaben['Category']==labels_Ausgaben[i]]['Betrag']) for i in range(len(labels_Ausgaben))]\n",
        "colors = ['gold', 'yellowgreen', 'lightcoral', 'lightskyblue','darksalmon','darkgoldenrod',\n",
        "          'red','yellow','fuchsia','cadetblue','lightseagreen','slategray','rosybrown',\n",
        "         'dodgerblue','hotpink','lawngreen','cyan','plum','firebrick','cornsilk','darkviolet'\n",
        "         ][:20] \n",
        " # Plot\n",
        "plt.pie(sizes_Ausgaben, labels= labels_Ausgaben, colors=colors, shadow=True, autopct='%1.1f%%', startangle=140)\n",
        "#plt.legend(labels_Ausgaben, loc=\"best\") \n",
        "plt.title('Visualsierung Ausgaben')\n",
        "plt.savefig('myfig')\n",
        "#plt.show()"
      ],
      "outputs": [
        {
          "output_type": "display_data",
          "data": {
            "text/plain": [
              "<Figure size 432x288 with 1 Axes>"
            ],
            "image/png": "[encoded data removed]"
          },
          "metadata": {}
        }
      ],
      "execution_count": 138,
      "metadata": {
        "collapsed": false,
        "outputHidden": false,
        "inputHidden": false
      }
    },
    {
      "cell_type": "code",
      "source": [
        "sizes_Ausgaben"
      ],
      "outputs": [
        {
          "output_type": "execute_result",
          "execution_count": 106,
          "data": {
            "text/plain": [
              "[9450.830000000002,\n",
              " 657.94,\n",
              " 1910.82,\n",
              " 160.0,\n",
              " 470.45,\n",
              " 1031.8500000000001,\n",
              " 4673.86,\n",
              " 787.9499999999999,\n",
              " 1496.6600000000003,\n",
              " 2735.8799999999997,\n",
              " 424.0,\n",
              " 838.53,\n",
              " 2135.750000000001,\n",
              " 1616.3200000000002,\n",
              " 2245.5599999999995,\n",
              " 407.37,\n",
              " 343.11,\n",
              " 6930.0,\n",
              " 2452.4199999999996,\n",
              " 2559.499999999999]"
            ]
          },
          "metadata": {}
        }
      ],
      "execution_count": 106,
      "metadata": {
        "collapsed": false,
        "outputHidden": false,
        "inputHidden": false
      }
    },
    {
      "cell_type": "code",
      "source": [
        "len(sizes_Ausgaben)"
      ],
      "outputs": [
        {
          "output_type": "execute_result",
          "execution_count": 107,
          "data": {
            "text/plain": [
              "20"
            ]
          },
          "metadata": {}
        }
      ],
      "execution_count": 107,
      "metadata": {
        "collapsed": false,
        "outputHidden": false,
        "inputHidden": false
      }
    },
    {
      "cell_type": "code",
      "source": [
        "len(sizes_Ausgaben)\n"
      ],
      "outputs": [
        {
          "output_type": "execute_result",
          "execution_count": 108,
          "data": {
            "text/plain": [
              "20"
            ]
          },
          "metadata": {}
        }
      ],
      "execution_count": 108,
      "metadata": {
        "collapsed": false,
        "outputHidden": false,
        "inputHidden": false
      }
    },
    {
      "cell_type": "code",
      "source": [
        "len(colors)"
      ],
      "outputs": [
        {
          "output_type": "execute_result",
          "execution_count": 109,
          "data": {
            "text/plain": [
              "20"
            ]
          },
          "metadata": {}
        }
      ],
      "execution_count": 109,
      "metadata": {
        "collapsed": false,
        "outputHidden": false,
        "inputHidden": false
      }
    },
    {
      "cell_type": "code",
      "source": [
        "labels_Ausgaben"
      ],
      "outputs": [
        {
          "output_type": "execute_result",
          "execution_count": 110,
          "data": {
            "text/plain": [
              "['Bargeldauszahlung',\n",
              " 'Telefon+Internet',\n",
              " 'Einkäufe(Klamotten)',\n",
              " 'Sparen',\n",
              " 'Transport(ÖPNV,Parken)',\n",
              " 'PayPal',\n",
              " 'Tilgung&Zinsen',\n",
              " 'Ausgehen',\n",
              " 'Andere',\n",
              " 'Versicherungen',\n",
              " 'Wohnnebenkosten',\n",
              " 'Reisen',\n",
              " 'Gesundheit/Ärzte/Kliniken',\n",
              " 'Altervorsorge',\n",
              " 'Einkäufe(Sonstiges)',\n",
              " 'Medien (Bücher, Zeitungen, Streaming)',\n",
              " 'Kreditkarte',\n",
              " 'Miete',\n",
              " 'Einkäufe(Haushalt)',\n",
              " 'Auto']"
            ]
          },
          "metadata": {}
        }
      ],
      "execution_count": 110,
      "metadata": {
        "collapsed": false,
        "outputHidden": false,
        "inputHidden": false
      }
    },
    {
      "cell_type": "markdown",
      "source": [
        "# Offene Fragen"
      ],
      "metadata": {}
    },
    {
      "cell_type": "markdown",
      "source": [
        "Was sind die Umsätze mit Betrag <= 1 (absolut) ?"
      ],
      "metadata": {}
    }
  ],
  "metadata": {
    "kernel_info": {
      "name": "python3"
    },
    "language_info": {
      "name": "python",
      "version": "3.6.6",
      "mimetype": "text/x-python",
      "codemirror_mode": {
        "name": "ipython",
        "version": 3
      },
      "pygments_lexer": "ipython3",
      "nbconvert_exporter": "python",
      "file_extension": ".py"
    },
    "kernelspec": {
      "name": "python3",
      "language": "python",
      "display_name": "Python 3"
    },
    "nteract": {
      "version": "0.12.3"
    }
  },
  "nbformat": 4,
  "nbformat_minor": 4
}